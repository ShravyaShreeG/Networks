{
 "cells": [
  {
   "cell_type": "markdown",
   "id": "a1726ba7",
   "metadata": {},
   "source": [
    "# Network Analysis- Assessment 1"
   ]
  },
  {
   "cell_type": "markdown",
   "id": "49ceedf8",
   "metadata": {},
   "source": [
    "First searched a random network. went through network repository but didnt get descriptions. stanford- got discription. picked a road connections in california dataset. got bored and started with game of thrones analysis example and finally worked on new hogwards dataset\n",
    "1. https://ericmjl.github.io/Network-Analysis-Made-Simple/05-casestudies/01-gameofthrones/\n",
    "2. https://github.com/efekarakus/potter-network/tree/master/data"
   ]
  },
  {
   "cell_type": "markdown",
   "id": "1bf74a80",
   "metadata": {},
   "source": [
    "Properties of network:\n",
    "1. Undirected\n",
    "2. Weighted\n",
    "3. Small\n",
    "4. Fictional"
   ]
  },
  {
   "cell_type": "code",
   "execution_count": 1,
   "id": "319ffe76",
   "metadata": {},
   "outputs": [
    {
     "name": "stdout",
     "output_type": "stream",
     "text": [
      "Requirement already satisfied: scipy in /Users/tinydragon/opt/anaconda3/lib/python3.9/site-packages (1.10.1)\n",
      "Requirement already satisfied: networkx in /Users/tinydragon/opt/anaconda3/lib/python3.9/site-packages (3.0)\n",
      "Requirement already satisfied: numpy<1.27.0,>=1.19.5 in /Users/tinydragon/opt/anaconda3/lib/python3.9/site-packages (from scipy) (1.21.5)\n"
     ]
    }
   ],
   "source": [
    "#!pip install spacy\n",
    "!pip install --upgrade scipy networkx\n",
    "import matplotlib.pyplot as plt\n",
    "import pandas as pd\n",
    "import networkx as nx\n",
    "import numpy as np"
   ]
  },
  {
   "cell_type": "code",
   "execution_count": 2,
   "id": "7993a06a",
   "metadata": {},
   "outputs": [
    {
     "name": "stdout",
     "output_type": "stream",
     "text": [
      "     source  target type\n",
      "0         0       1    -\n",
      "1         0      25    -\n",
      "2         0      45    -\n",
      "3         1       0    -\n",
      "4         1      11    +\n",
      "..      ...     ...  ...\n",
      "508      63      58    -\n",
      "509      64      21    +\n",
      "510      64      22    +\n",
      "511      64      39    +\n",
      "512      63      58    +\n",
      "\n",
      "[513 rows x 3 columns]\n"
     ]
    },
    {
     "data": {
      "text/html": [
       "<div>\n",
       "<style scoped>\n",
       "    .dataframe tbody tr th:only-of-type {\n",
       "        vertical-align: middle;\n",
       "    }\n",
       "\n",
       "    .dataframe tbody tr th {\n",
       "        vertical-align: top;\n",
       "    }\n",
       "\n",
       "    .dataframe thead th {\n",
       "        text-align: right;\n",
       "    }\n",
       "</style>\n",
       "<table border=\"1\" class=\"dataframe\">\n",
       "  <thead>\n",
       "    <tr style=\"text-align: right;\">\n",
       "      <th></th>\n",
       "      <th>id</th>\n",
       "      <th>name</th>\n",
       "      <th>bio</th>\n",
       "    </tr>\n",
       "  </thead>\n",
       "  <tbody>\n",
       "    <tr>\n",
       "      <th>0</th>\n",
       "      <td>0</td>\n",
       "      <td>Regulus Arcturus Black</td>\n",
       "      <td>Brother of Sirius. Used to be a Death Eater bu...</td>\n",
       "    </tr>\n",
       "    <tr>\n",
       "      <th>1</th>\n",
       "      <td>1</td>\n",
       "      <td>Sirius Black</td>\n",
       "      <td>Best friend of James Potter and godfather of H...</td>\n",
       "    </tr>\n",
       "    <tr>\n",
       "      <th>2</th>\n",
       "      <td>2</td>\n",
       "      <td>Lavender Brown</td>\n",
       "      <td>Killed by a werewolf. She was a gryffindor stu...</td>\n",
       "    </tr>\n",
       "    <tr>\n",
       "      <th>3</th>\n",
       "      <td>3</td>\n",
       "      <td>Cho Chang</td>\n",
       "      <td>Ravenclaw student who dated Cedric Diggory and...</td>\n",
       "    </tr>\n",
       "    <tr>\n",
       "      <th>4</th>\n",
       "      <td>4</td>\n",
       "      <td>Vincent Crabbe Sr.</td>\n",
       "      <td>Father of Crabbe and death-eater who escaped A...</td>\n",
       "    </tr>\n",
       "    <tr>\n",
       "      <th>...</th>\n",
       "      <td>...</td>\n",
       "      <td>...</td>\n",
       "      <td>...</td>\n",
       "    </tr>\n",
       "    <tr>\n",
       "      <th>60</th>\n",
       "      <td>60</td>\n",
       "      <td>Fluffy</td>\n",
       "      <td>Three-headed dog belonging to Rubeus Hagrid.</td>\n",
       "    </tr>\n",
       "    <tr>\n",
       "      <th>61</th>\n",
       "      <td>61</td>\n",
       "      <td>Hedwig</td>\n",
       "      <td>Harry's owl.</td>\n",
       "    </tr>\n",
       "    <tr>\n",
       "      <th>62</th>\n",
       "      <td>62</td>\n",
       "      <td>Moaning Myrtle</td>\n",
       "      <td>Ghost at Hogwards.</td>\n",
       "    </tr>\n",
       "    <tr>\n",
       "      <th>63</th>\n",
       "      <td>63</td>\n",
       "      <td>Aragog</td>\n",
       "      <td>Acromantula belonging to Rubeus Hagrid.</td>\n",
       "    </tr>\n",
       "    <tr>\n",
       "      <th>64</th>\n",
       "      <td>64</td>\n",
       "      <td>Grawp</td>\n",
       "      <td>Giant-half brother of Hagrid.</td>\n",
       "    </tr>\n",
       "  </tbody>\n",
       "</table>\n",
       "<p>65 rows × 3 columns</p>\n",
       "</div>"
      ],
      "text/plain": [
       "    id                    name  \\\n",
       "0    0  Regulus Arcturus Black   \n",
       "1    1            Sirius Black   \n",
       "2    2          Lavender Brown   \n",
       "3    3               Cho Chang   \n",
       "4    4      Vincent Crabbe Sr.   \n",
       "..  ..                     ...   \n",
       "60  60                  Fluffy   \n",
       "61  61                  Hedwig   \n",
       "62  62          Moaning Myrtle   \n",
       "63  63                  Aragog   \n",
       "64  64                   Grawp   \n",
       "\n",
       "                                                  bio  \n",
       "0   Brother of Sirius. Used to be a Death Eater bu...  \n",
       "1   Best friend of James Potter and godfather of H...  \n",
       "2   Killed by a werewolf. She was a gryffindor stu...  \n",
       "3   Ravenclaw student who dated Cedric Diggory and...  \n",
       "4   Father of Crabbe and death-eater who escaped A...  \n",
       "..                                                ...  \n",
       "60       Three-headed dog belonging to Rubeus Hagrid.  \n",
       "61                                       Harry's owl.  \n",
       "62                                 Ghost at Hogwards.  \n",
       "63            Acromantula belonging to Rubeus Hagrid.  \n",
       "64                      Giant-half brother of Hagrid.  \n",
       "\n",
       "[65 rows x 3 columns]"
      ]
     },
     "execution_count": 2,
     "metadata": {},
     "output_type": "execute_result"
    }
   ],
   "source": [
    "# friend = '+', enemy = '-'\n",
    "\n",
    "relations = pd.read_csv('relations.txt')\n",
    "print(relations)\n",
    "\n",
    "characters = pd.read_csv('characters.txt')\n",
    "characters"
   ]
  },
  {
   "cell_type": "code",
   "execution_count": 3,
   "id": "4dd21a71",
   "metadata": {},
   "outputs": [
    {
     "data": {
      "text/html": [
       "<div>\n",
       "<style scoped>\n",
       "    .dataframe tbody tr th:only-of-type {\n",
       "        vertical-align: middle;\n",
       "    }\n",
       "\n",
       "    .dataframe tbody tr th {\n",
       "        vertical-align: top;\n",
       "    }\n",
       "\n",
       "    .dataframe thead th {\n",
       "        text-align: right;\n",
       "    }\n",
       "</style>\n",
       "<table border=\"1\" class=\"dataframe\">\n",
       "  <thead>\n",
       "    <tr style=\"text-align: right;\">\n",
       "      <th></th>\n",
       "      <th>source</th>\n",
       "      <th>target</th>\n",
       "      <th>type</th>\n",
       "    </tr>\n",
       "  </thead>\n",
       "  <tbody>\n",
       "    <tr>\n",
       "      <th>0</th>\n",
       "      <td>Regulus Arcturus Black</td>\n",
       "      <td>Sirius Black</td>\n",
       "      <td>-</td>\n",
       "    </tr>\n",
       "    <tr>\n",
       "      <th>1</th>\n",
       "      <td>Regulus Arcturus Black</td>\n",
       "      <td>Bellatrix Lestrange</td>\n",
       "      <td>-</td>\n",
       "    </tr>\n",
       "    <tr>\n",
       "      <th>2</th>\n",
       "      <td>Regulus Arcturus Black</td>\n",
       "      <td>Lord Voldemort</td>\n",
       "      <td>-</td>\n",
       "    </tr>\n",
       "    <tr>\n",
       "      <th>3</th>\n",
       "      <td>Sirius Black</td>\n",
       "      <td>Regulus Arcturus Black</td>\n",
       "      <td>-</td>\n",
       "    </tr>\n",
       "    <tr>\n",
       "      <th>4</th>\n",
       "      <td>Sirius Black</td>\n",
       "      <td>Albus Dumbledore</td>\n",
       "      <td>+</td>\n",
       "    </tr>\n",
       "    <tr>\n",
       "      <th>...</th>\n",
       "      <td>...</td>\n",
       "      <td>...</td>\n",
       "      <td>...</td>\n",
       "    </tr>\n",
       "    <tr>\n",
       "      <th>508</th>\n",
       "      <td>Aragog</td>\n",
       "      <td>Ron Weasley</td>\n",
       "      <td>-</td>\n",
       "    </tr>\n",
       "    <tr>\n",
       "      <th>509</th>\n",
       "      <td>Grawp</td>\n",
       "      <td>Hermione Granger</td>\n",
       "      <td>+</td>\n",
       "    </tr>\n",
       "    <tr>\n",
       "      <th>510</th>\n",
       "      <td>Grawp</td>\n",
       "      <td>Rubeus Hagrid</td>\n",
       "      <td>+</td>\n",
       "    </tr>\n",
       "    <tr>\n",
       "      <th>511</th>\n",
       "      <td>Grawp</td>\n",
       "      <td>Harry Potter</td>\n",
       "      <td>+</td>\n",
       "    </tr>\n",
       "    <tr>\n",
       "      <th>512</th>\n",
       "      <td>Aragog</td>\n",
       "      <td>Ron Weasley</td>\n",
       "      <td>+</td>\n",
       "    </tr>\n",
       "  </tbody>\n",
       "</table>\n",
       "<p>513 rows × 3 columns</p>\n",
       "</div>"
      ],
      "text/plain": [
       "                     source                  target type\n",
       "0    Regulus Arcturus Black            Sirius Black    -\n",
       "1    Regulus Arcturus Black     Bellatrix Lestrange    -\n",
       "2    Regulus Arcturus Black          Lord Voldemort    -\n",
       "3              Sirius Black  Regulus Arcturus Black    -\n",
       "4              Sirius Black        Albus Dumbledore    +\n",
       "..                      ...                     ...  ...\n",
       "508                  Aragog             Ron Weasley    -\n",
       "509                   Grawp        Hermione Granger    +\n",
       "510                   Grawp           Rubeus Hagrid    +\n",
       "511                   Grawp            Harry Potter    +\n",
       "512                  Aragog             Ron Weasley    +\n",
       "\n",
       "[513 rows x 3 columns]"
      ]
     },
     "execution_count": 3,
     "metadata": {},
     "output_type": "execute_result"
    }
   ],
   "source": [
    "characters[characters['name']=='Fluffy']['bio'].item()\n",
    "\n",
    "s = characters.set_index('id')['name']\n",
    "relations['source'] = relations['source'].map(s)\n",
    "relations['target'] = relations['target'].map(s)\n",
    "relations"
   ]
  },
  {
   "cell_type": "code",
   "execution_count": 4,
   "id": "12375042",
   "metadata": {},
   "outputs": [],
   "source": [
    "Graphtype = nx.Graph()\n",
    "G = nx.from_pandas_edgelist(relations, edge_attr='type', create_using=Graphtype)"
   ]
  },
  {
   "cell_type": "code",
   "execution_count": 5,
   "id": "83bffede",
   "metadata": {},
   "outputs": [
    {
     "data": {
      "text/plain": [
       "networkx.classes.reportviews.DegreeView"
      ]
     },
     "execution_count": 5,
     "metadata": {},
     "output_type": "execute_result"
    }
   ],
   "source": [
    "type(G.degree)"
   ]
  },
  {
   "cell_type": "code",
   "execution_count": 6,
   "id": "2130e998",
   "metadata": {},
   "outputs": [
    {
     "data": {
      "text/plain": [
       "[('Harry Potter', 48),\n",
       " ('Ron Weasley', 37),\n",
       " ('Lord Voldemort', 36),\n",
       " ('Hermione Granger', 36),\n",
       " ('Albus Dumbledore', 32),\n",
       " ('Sirius Black', 23),\n",
       " ('Ginny Weasley', 18),\n",
       " ('Fred Weasley', 17),\n",
       " ('George Weasley', 17),\n",
       " ('Molly Weasley', 17)]"
      ]
     },
     "execution_count": 6,
     "metadata": {},
     "output_type": "execute_result"
    }
   ],
   "source": [
    "sorted(G.degree, key=lambda x: x[1], reverse=True)[0:10]\n",
    "# HUB is harry potter - no surprises here"
   ]
  },
  {
   "cell_type": "code",
   "execution_count": 7,
   "id": "07c6397c",
   "metadata": {},
   "outputs": [
    {
     "data": {
      "text/plain": [
       "65"
      ]
     },
     "execution_count": 7,
     "metadata": {},
     "output_type": "execute_result"
    }
   ],
   "source": [
    "nodes = G.nodes()\n",
    "no_of_nodes = G.number_of_nodes()\n",
    "N = no_of_nodes\n",
    "N"
   ]
  },
  {
   "cell_type": "code",
   "execution_count": 8,
   "id": "a3dff1a9",
   "metadata": {},
   "outputs": [
    {
     "data": {
      "text/plain": [
       "333"
      ]
     },
     "execution_count": 8,
     "metadata": {},
     "output_type": "execute_result"
    }
   ],
   "source": [
    "edges = G.edges()\n",
    "no_of_edges = G.number_of_edges()\n",
    "L = no_of_edges\n",
    "L"
   ]
  },
  {
   "cell_type": "code",
   "execution_count": 9,
   "id": "a07100d2",
   "metadata": {},
   "outputs": [
    {
     "data": {
      "text/plain": [
       "10.246153846153845"
      ]
     },
     "execution_count": 9,
     "metadata": {},
     "output_type": "execute_result"
    }
   ],
   "source": [
    "Average_degree = (2*L)/N\n",
    "Average_degree"
   ]
  },
  {
   "cell_type": "code",
   "execution_count": 10,
   "id": "24875070",
   "metadata": {},
   "outputs": [
    {
     "data": {
      "image/png": "[encoded data removed]",
      "text/plain": [
       "<Figure size 432x288 with 1 Axes>"
      ]
     },
     "metadata": {},
     "output_type": "display_data"
    }
   ],
   "source": [
    "nx.draw(G)\n",
    "# self connections- something wrong with data??"
   ]
  },
  {
   "cell_type": "code",
   "execution_count": 11,
   "id": "f1708d21",
   "metadata": {},
   "outputs": [
    {
     "data": {
      "text/html": [
       "<div>\n",
       "<style scoped>\n",
       "    .dataframe tbody tr th:only-of-type {\n",
       "        vertical-align: middle;\n",
       "    }\n",
       "\n",
       "    .dataframe tbody tr th {\n",
       "        vertical-align: top;\n",
       "    }\n",
       "\n",
       "    .dataframe thead th {\n",
       "        text-align: right;\n",
       "    }\n",
       "</style>\n",
       "<table border=\"1\" class=\"dataframe\">\n",
       "  <thead>\n",
       "    <tr style=\"text-align: right;\">\n",
       "      <th></th>\n",
       "      <th>node</th>\n",
       "      <th>degree</th>\n",
       "    </tr>\n",
       "  </thead>\n",
       "  <tbody>\n",
       "    <tr>\n",
       "      <th>0</th>\n",
       "      <td>Regulus Arcturus Black</td>\n",
       "      <td>4</td>\n",
       "    </tr>\n",
       "    <tr>\n",
       "      <th>1</th>\n",
       "      <td>Sirius Black</td>\n",
       "      <td>23</td>\n",
       "    </tr>\n",
       "    <tr>\n",
       "      <th>2</th>\n",
       "      <td>Bellatrix Lestrange</td>\n",
       "      <td>13</td>\n",
       "    </tr>\n",
       "    <tr>\n",
       "      <th>3</th>\n",
       "      <td>Lord Voldemort</td>\n",
       "      <td>36</td>\n",
       "    </tr>\n",
       "    <tr>\n",
       "      <th>4</th>\n",
       "      <td>Albus Dumbledore</td>\n",
       "      <td>32</td>\n",
       "    </tr>\n",
       "  </tbody>\n",
       "</table>\n",
       "</div>"
      ],
      "text/plain": [
       "                     node  degree\n",
       "0  Regulus Arcturus Black       4\n",
       "1            Sirius Black      23\n",
       "2     Bellatrix Lestrange      13\n",
       "3          Lord Voldemort      36\n",
       "4        Albus Dumbledore      32"
      ]
     },
     "execution_count": 11,
     "metadata": {},
     "output_type": "execute_result"
    }
   ],
   "source": [
    "df_degree = pd.DataFrame(G.degree(), columns=[\"node\", \"degree\"])\n",
    "df_degree.head()"
   ]
  },
  {
   "cell_type": "code",
   "execution_count": 12,
   "id": "59a2d3f5",
   "metadata": {},
   "outputs": [
    {
     "data": {
      "text/plain": [
       "333.0"
      ]
     },
     "execution_count": 12,
     "metadata": {},
     "output_type": "execute_result"
    }
   ],
   "source": [
    "# no of edges = 1/2 of sum of degrees of each node\n",
    "sum(df_degree['degree'])*0.5"
   ]
  },
  {
   "cell_type": "code",
   "execution_count": 13,
   "id": "f3a6ccb5",
   "metadata": {},
   "outputs": [
    {
     "data": {
      "text/plain": [
       "Text(0.5, 1.0, 'Degree-Historgram')"
      ]
     },
     "execution_count": 13,
     "metadata": {},
     "output_type": "execute_result"
    },
    {
     "data": {
      "image/png": "[encoded data removed]",
      "text/plain": [
       "<Figure size 432x288 with 1 Axes>"
      ]
     },
     "metadata": {
      "needs_background": "light"
     },
     "output_type": "display_data"
    }
   ],
   "source": [
    "plt.hist(df_degree['degree'])\n",
    "plt.xlabel(\"k- connections\")\n",
    "plt.ylabel(\"no of characters\")\n",
    "plt.title(\"Degree-Historgram\")"
   ]
  },
  {
   "cell_type": "code",
   "execution_count": 14,
   "id": "f6089038",
   "metadata": {},
   "outputs": [
    {
     "data": {
      "text/html": [
       "<div>\n",
       "<style scoped>\n",
       "    .dataframe tbody tr th:only-of-type {\n",
       "        vertical-align: middle;\n",
       "    }\n",
       "\n",
       "    .dataframe tbody tr th {\n",
       "        vertical-align: top;\n",
       "    }\n",
       "\n",
       "    .dataframe thead th {\n",
       "        text-align: right;\n",
       "    }\n",
       "</style>\n",
       "<table border=\"1\" class=\"dataframe\">\n",
       "  <thead>\n",
       "    <tr style=\"text-align: right;\">\n",
       "      <th></th>\n",
       "      <th>n</th>\n",
       "      <th>p</th>\n",
       "      <th>cdf</th>\n",
       "      <th>ccdf</th>\n",
       "    </tr>\n",
       "    <tr>\n",
       "      <th>degree</th>\n",
       "      <th></th>\n",
       "      <th></th>\n",
       "      <th></th>\n",
       "      <th></th>\n",
       "    </tr>\n",
       "  </thead>\n",
       "  <tbody>\n",
       "    <tr>\n",
       "      <th>1</th>\n",
       "      <td>4</td>\n",
       "      <td>0.061538</td>\n",
       "      <td>0.061538</td>\n",
       "      <td>0.938462</td>\n",
       "    </tr>\n",
       "    <tr>\n",
       "      <th>2</th>\n",
       "      <td>3</td>\n",
       "      <td>0.046154</td>\n",
       "      <td>0.107692</td>\n",
       "      <td>0.892308</td>\n",
       "    </tr>\n",
       "    <tr>\n",
       "      <th>3</th>\n",
       "      <td>2</td>\n",
       "      <td>0.030769</td>\n",
       "      <td>0.138462</td>\n",
       "      <td>0.861538</td>\n",
       "    </tr>\n",
       "    <tr>\n",
       "      <th>4</th>\n",
       "      <td>13</td>\n",
       "      <td>0.200000</td>\n",
       "      <td>0.338462</td>\n",
       "      <td>0.661538</td>\n",
       "    </tr>\n",
       "    <tr>\n",
       "      <th>5</th>\n",
       "      <td>3</td>\n",
       "      <td>0.046154</td>\n",
       "      <td>0.384615</td>\n",
       "      <td>0.615385</td>\n",
       "    </tr>\n",
       "    <tr>\n",
       "      <th>6</th>\n",
       "      <td>3</td>\n",
       "      <td>0.046154</td>\n",
       "      <td>0.430769</td>\n",
       "      <td>0.569231</td>\n",
       "    </tr>\n",
       "    <tr>\n",
       "      <th>7</th>\n",
       "      <td>5</td>\n",
       "      <td>0.076923</td>\n",
       "      <td>0.507692</td>\n",
       "      <td>0.492308</td>\n",
       "    </tr>\n",
       "    <tr>\n",
       "      <th>8</th>\n",
       "      <td>4</td>\n",
       "      <td>0.061538</td>\n",
       "      <td>0.569231</td>\n",
       "      <td>0.430769</td>\n",
       "    </tr>\n",
       "    <tr>\n",
       "      <th>9</th>\n",
       "      <td>3</td>\n",
       "      <td>0.046154</td>\n",
       "      <td>0.615385</td>\n",
       "      <td>0.384615</td>\n",
       "    </tr>\n",
       "    <tr>\n",
       "      <th>10</th>\n",
       "      <td>1</td>\n",
       "      <td>0.015385</td>\n",
       "      <td>0.630769</td>\n",
       "      <td>0.369231</td>\n",
       "    </tr>\n",
       "    <tr>\n",
       "      <th>11</th>\n",
       "      <td>3</td>\n",
       "      <td>0.046154</td>\n",
       "      <td>0.676923</td>\n",
       "      <td>0.323077</td>\n",
       "    </tr>\n",
       "    <tr>\n",
       "      <th>12</th>\n",
       "      <td>3</td>\n",
       "      <td>0.046154</td>\n",
       "      <td>0.723077</td>\n",
       "      <td>0.276923</td>\n",
       "    </tr>\n",
       "    <tr>\n",
       "      <th>13</th>\n",
       "      <td>3</td>\n",
       "      <td>0.046154</td>\n",
       "      <td>0.769231</td>\n",
       "      <td>0.230769</td>\n",
       "    </tr>\n",
       "    <tr>\n",
       "      <th>14</th>\n",
       "      <td>3</td>\n",
       "      <td>0.046154</td>\n",
       "      <td>0.815385</td>\n",
       "      <td>0.184615</td>\n",
       "    </tr>\n",
       "    <tr>\n",
       "      <th>15</th>\n",
       "      <td>2</td>\n",
       "      <td>0.030769</td>\n",
       "      <td>0.846154</td>\n",
       "      <td>0.153846</td>\n",
       "    </tr>\n",
       "    <tr>\n",
       "      <th>17</th>\n",
       "      <td>3</td>\n",
       "      <td>0.046154</td>\n",
       "      <td>0.892308</td>\n",
       "      <td>0.107692</td>\n",
       "    </tr>\n",
       "    <tr>\n",
       "      <th>18</th>\n",
       "      <td>1</td>\n",
       "      <td>0.015385</td>\n",
       "      <td>0.907692</td>\n",
       "      <td>0.092308</td>\n",
       "    </tr>\n",
       "    <tr>\n",
       "      <th>23</th>\n",
       "      <td>1</td>\n",
       "      <td>0.015385</td>\n",
       "      <td>0.923077</td>\n",
       "      <td>0.076923</td>\n",
       "    </tr>\n",
       "    <tr>\n",
       "      <th>32</th>\n",
       "      <td>1</td>\n",
       "      <td>0.015385</td>\n",
       "      <td>0.938462</td>\n",
       "      <td>0.061538</td>\n",
       "    </tr>\n",
       "    <tr>\n",
       "      <th>36</th>\n",
       "      <td>2</td>\n",
       "      <td>0.030769</td>\n",
       "      <td>0.969231</td>\n",
       "      <td>0.030769</td>\n",
       "    </tr>\n",
       "    <tr>\n",
       "      <th>37</th>\n",
       "      <td>1</td>\n",
       "      <td>0.015385</td>\n",
       "      <td>0.984615</td>\n",
       "      <td>0.015385</td>\n",
       "    </tr>\n",
       "    <tr>\n",
       "      <th>48</th>\n",
       "      <td>1</td>\n",
       "      <td>0.015385</td>\n",
       "      <td>1.000000</td>\n",
       "      <td>0.000000</td>\n",
       "    </tr>\n",
       "  </tbody>\n",
       "</table>\n",
       "</div>"
      ],
      "text/plain": [
       "         n         p       cdf      ccdf\n",
       "degree                                  \n",
       "1        4  0.061538  0.061538  0.938462\n",
       "2        3  0.046154  0.107692  0.892308\n",
       "3        2  0.030769  0.138462  0.861538\n",
       "4       13  0.200000  0.338462  0.661538\n",
       "5        3  0.046154  0.384615  0.615385\n",
       "6        3  0.046154  0.430769  0.569231\n",
       "7        5  0.076923  0.507692  0.492308\n",
       "8        4  0.061538  0.569231  0.430769\n",
       "9        3  0.046154  0.615385  0.384615\n",
       "10       1  0.015385  0.630769  0.369231\n",
       "11       3  0.046154  0.676923  0.323077\n",
       "12       3  0.046154  0.723077  0.276923\n",
       "13       3  0.046154  0.769231  0.230769\n",
       "14       3  0.046154  0.815385  0.184615\n",
       "15       2  0.030769  0.846154  0.153846\n",
       "17       3  0.046154  0.892308  0.107692\n",
       "18       1  0.015385  0.907692  0.092308\n",
       "23       1  0.015385  0.923077  0.076923\n",
       "32       1  0.015385  0.938462  0.061538\n",
       "36       2  0.030769  0.969231  0.030769\n",
       "37       1  0.015385  0.984615  0.015385\n",
       "48       1  0.015385  1.000000  0.000000"
      ]
     },
     "execution_count": 14,
     "metadata": {},
     "output_type": "execute_result"
    }
   ],
   "source": [
    "degree_count = df_degree.groupby('degree')['degree'].count()\n",
    "degree_dist = pd.DataFrame({'n':degree_count})\n",
    "degree_dist['p'] = degree_dist['n']/degree_dist['n'].sum()\n",
    "degree_dist['cdf'] = np.cumsum(degree_dist['p'])\n",
    "degree_dist['ccdf'] = 1-degree_dist['cdf']\n",
    "degree_dist\n",
    "\n",
    "# there are 13 people out of 65 who have 4 links. By this we can say that most common no of links for each individual is 4."
   ]
  },
  {
   "cell_type": "code",
   "execution_count": 15,
   "id": "229125fd",
   "metadata": {},
   "outputs": [
    {
     "data": {
      "image/png": "[encoded data removed]",
      "text/plain": [
       "<Figure size 432x288 with 1 Axes>"
      ]
     },
     "metadata": {
      "needs_background": "light"
     },
     "output_type": "display_data"
    }
   ],
   "source": [
    "plt.plot(degree_dist.index, degree_dist['p'])\n",
    "plt.scatter(degree_dist.index, degree_dist['p'])\n",
    "plt.xlabel('degree- logscale')\n",
    "plt.ylabel('p- logscale')\n",
    "plt.yscale('log')\n",
    "plt.xscale('log')\n",
    "plt.title(\"Degree Distribution\")\n",
    "plt.show()"
   ]
  },
  {
   "cell_type": "markdown",
   "id": "4f1e465e",
   "metadata": {},
   "source": [
    "Exponential decay. Similar to power law distribution"
   ]
  },
  {
   "cell_type": "code",
   "execution_count": 16,
   "id": "fbec7d11",
   "metadata": {},
   "outputs": [],
   "source": [
    "#adjacency_matrix = nx.adjacency_matrix(G)\n"
   ]
  },
  {
   "cell_type": "code",
   "execution_count": 17,
   "id": "4b57dbbe",
   "metadata": {},
   "outputs": [
    {
     "name": "stdout",
     "output_type": "stream",
     "text": [
      "degree\n",
      "1     0.061538\n",
      "2     0.046154\n",
      "3     0.030769\n",
      "4     0.200000\n",
      "5     0.046154\n",
      "6     0.046154\n",
      "7     0.076923\n",
      "8     0.061538\n",
      "9     0.046154\n",
      "10    0.015385\n",
      "11    0.046154\n",
      "12    0.046154\n",
      "13    0.046154\n",
      "14    0.046154\n",
      "15    0.030769\n",
      "17    0.046154\n",
      "18    0.015385\n",
      "23    0.015385\n",
      "32    0.015385\n",
      "36    0.030769\n",
      "37    0.015385\n",
      "48    0.015385\n",
      "Name: p, dtype: float64\n"
     ]
    }
   ],
   "source": [
    "print(degree_dist['p'])"
   ]
  },
  {
   "cell_type": "code",
   "execution_count": 18,
   "id": "4be2574a",
   "metadata": {},
   "outputs": [
    {
     "name": "stdout",
     "output_type": "stream",
     "text": [
      "n       65.000000\n",
      "p        1.000000\n",
      "cdf     14.230769\n",
      "ccdf     7.769231\n",
      "dtype: float64\n"
     ]
    }
   ],
   "source": [
    "print(degree_dist.sum())"
   ]
  },
  {
   "cell_type": "code",
   "execution_count": 19,
   "id": "dbc709ad",
   "metadata": {},
   "outputs": [
    {
     "data": {
      "text/plain": [
       "2080.0"
      ]
     },
     "execution_count": 19,
     "metadata": {},
     "output_type": "execute_result"
    }
   ],
   "source": [
    "# Total no of links in a complete graph. Every node is connected to every other node\n",
    "Lmax = N*(N-1)/2\n",
    "Lmax"
   ]
  },
  {
   "cell_type": "markdown",
   "id": "021f2d66",
   "metadata": {},
   "source": [
    "Since Lmax for this network is 2080 and L is 333, L< Lmax, this network is sparse matrix. Which also indicates that the adjacency matrix is also sparse"
   ]
  },
  {
   "cell_type": "markdown",
   "id": "f85e021f",
   "metadata": {},
   "source": [
    "Network Pathology"
   ]
  },
  {
   "cell_type": "code",
   "execution_count": 20,
   "id": "0d59cdcf",
   "metadata": {},
   "outputs": [
    {
     "data": {
      "text/plain": [
       "True"
      ]
     },
     "execution_count": 20,
     "metadata": {},
     "output_type": "execute_result"
    }
   ],
   "source": [
    "nx.has_path(G, 'Lord Voldemort', 'Fred Weasley')"
   ]
  },
  {
   "cell_type": "code",
   "execution_count": 21,
   "id": "3c98dafb",
   "metadata": {},
   "outputs": [
    {
     "data": {
      "text/plain": [
       "['Lord Voldemort', 'Fred Weasley']"
      ]
     },
     "execution_count": 21,
     "metadata": {},
     "output_type": "execute_result"
    }
   ],
   "source": [
    "nx.shortest_path(G, 'Lord Voldemort', 'Fred Weasley')"
   ]
  },
  {
   "cell_type": "code",
   "execution_count": 22,
   "id": "cef2049a",
   "metadata": {},
   "outputs": [
    {
     "data": {
      "text/plain": [
       "['Aragog', 'Hermione Granger', 'Lord Voldemort', 'Frank Longbottom']"
      ]
     },
     "execution_count": 22,
     "metadata": {},
     "output_type": "execute_result"
    }
   ],
   "source": [
    "nx.shortest_path(G, 'Aragog', 'Frank Longbottom')\n"
   ]
  },
  {
   "cell_type": "code",
   "execution_count": 23,
   "id": "a129f1e7",
   "metadata": {},
   "outputs": [
    {
     "data": {
      "text/plain": [
       "3"
      ]
     },
     "execution_count": 23,
     "metadata": {},
     "output_type": "execute_result"
    }
   ],
   "source": [
    "nx.shortest_path_length(G, 'Aragog', 'Frank Longbottom')\n"
   ]
  },
  {
   "cell_type": "code",
   "execution_count": 24,
   "id": "268f67d7",
   "metadata": {},
   "outputs": [],
   "source": [
    "# colour based on weights. red for enemy, green for friend"
   ]
  },
  {
   "cell_type": "code",
   "execution_count": 25,
   "id": "e67b7ceb",
   "metadata": {},
   "outputs": [
    {
     "data": {
      "text/plain": [
       "4"
      ]
     },
     "execution_count": 25,
     "metadata": {},
     "output_type": "execute_result"
    }
   ],
   "source": [
    "nx.diameter(G)"
   ]
  },
  {
   "cell_type": "code",
   "execution_count": 26,
   "id": "e81810ba",
   "metadata": {},
   "outputs": [
    {
     "name": "stdout",
     "output_type": "stream",
     "text": [
      "2.0283653846153844\n"
     ]
    }
   ],
   "source": [
    "print(nx.average_shortest_path_length(G))"
   ]
  },
  {
   "cell_type": "code",
   "execution_count": 27,
   "id": "674dd117",
   "metadata": {},
   "outputs": [
    {
     "name": "stdout",
     "output_type": "stream",
     "text": [
      "[['Sirius Black', 'Ron Weasley', 'Peter Pettigrew'], ['Albus Dumbledore', 'Ron Weasley', 'Peter Pettigrew'], ['Hermione Granger', 'Ron Weasley', 'Peter Pettigrew'], ['Fred Weasley', 'Ron Weasley', 'Peter Pettigrew'], ['George Weasley', 'Ron Weasley', 'Peter Pettigrew'], ['Ginny Weasley', 'Ron Weasley', 'Peter Pettigrew'], ['Argus Filch', 'Ron Weasley', 'Peter Pettigrew'], ['Remus Lupin', 'Ron Weasley', 'Peter Pettigrew'], ['Harry Potter', 'Ron Weasley', 'Peter Pettigrew'], ['Lord Voldemort', 'Ron Weasley', 'Peter Pettigrew'], ['Rubeus Hagrid', 'Grawp', 'Ron Weasley'], ['Hermione Granger', 'Grawp', 'Ron Weasley'], ['Harry Potter', 'Grawp', 'Ron Weasley'], ['Rubeus Hagrid', 'Aragog', 'Ron Weasley'], ['Hermione Granger', 'Aragog', 'Ron Weasley'], ['Harry Potter', 'Aragog', 'Ron Weasley'], ['Rubeus Hagrid', 'Fluffy', 'Ron Weasley'], ['Hermione Granger', 'Fluffy', 'Ron Weasley'], ['Harry Potter', 'Fluffy', 'Ron Weasley'], ['Alberforth Dumbledore', 'Dobby', 'Ron Weasley'], ['Bellatrix Lestrange', 'Dobby', 'Ron Weasley'], ['Lucius Malfoy', 'Dobby', 'Ron Weasley'], ['Hermione Granger', 'Dobby', 'Ron Weasley'], ['Draco Malfoy', 'Dobby', 'Ron Weasley'], ['Harry Potter', 'Dobby', 'Ron Weasley'], ['Albus Dumbledore', 'Charlie Weasley', 'Ron Weasley'], ['Arthur Weasley', 'Charlie Weasley', 'Ron Weasley'], ['Bill Weasley', 'Charlie Weasley', 'Ron Weasley'], ['Hermione Granger', 'Charlie Weasley', 'Ron Weasley'], ['Harry Potter', 'Charlie Weasley', 'Ron Weasley'], ['Fred Weasley', 'Charlie Weasley', 'Ron Weasley'], ['George Weasley', 'Charlie Weasley', 'Ron Weasley'], ['Lord Voldemort', 'Charlie Weasley', 'Ron Weasley'], ['Ginny Weasley', 'Charlie Weasley', 'Ron Weasley'], ['Percy Weasley', 'Charlie Weasley', 'Ron Weasley'], ['Molly Weasley', 'Charlie Weasley', 'Ron Weasley'], ['Fleur Delacour', 'Bill Weasley', 'Ron Weasley'], ['Albus Dumbledore', 'Bill Weasley', 'Ron Weasley'], ['Arthur Weasley', 'Bill Weasley', 'Ron Weasley'], ['Harry Potter', 'Bill Weasley', 'Ron Weasley'], ['Lord Voldemort', 'Bill Weasley', 'Ron Weasley'], ['Hermione Granger', 'Bill Weasley', 'Ron Weasley'], ['Fred Weasley', 'Bill Weasley', 'Ron Weasley'], ['George Weasley', 'Bill Weasley', 'Ron Weasley'], ['Ginny Weasley', 'Bill Weasley', 'Ron Weasley'], ['Percy Weasley', 'Bill Weasley', 'Ron Weasley'], ['Molly Weasley', 'Bill Weasley', 'Ron Weasley'], ['Sirius Black', 'Arthur Weasley', 'Ron Weasley'], ['Albus Dumbledore', 'Arthur Weasley', 'Ron Weasley'], ['Alastor \"Mad-Eye\" Moody', 'Arthur Weasley', 'Ron Weasley'], ['Hermione Granger', 'Arthur Weasley', 'Ron Weasley'], ['Lucius Malfoy', 'Arthur Weasley', 'Ron Weasley'], ['Harry Potter', 'Arthur Weasley', 'Ron Weasley'], ['Fred Weasley', 'Arthur Weasley', 'Ron Weasley'], ['George Weasley', 'Arthur Weasley', 'Ron Weasley'], ['Ginny Weasley', 'Arthur Weasley', 'Ron Weasley'], ['Percy Weasley', 'Arthur Weasley', 'Ron Weasley'], ['Molly Weasley', 'Arthur Weasley', 'Ron Weasley'], ['Albus Dumbledore', 'Cornelius Fudge', 'Arthur Weasley'], ['Lucius Malfoy', 'Cornelius Fudge', 'Arthur Weasley'], ['Harry Potter', 'Cornelius Fudge', 'Arthur Weasley'], ['Dolores Janes Umbridge', 'Cornelius Fudge', 'Arthur Weasley', 'Ron Weasley'], ['Percy Weasley', 'Cornelius Fudge', 'Arthur Weasley'], ['Vincent Crabbe', 'Dolores Janes Umbridge', 'Ron Weasley'], ['Albus Dumbledore', 'Dolores Janes Umbridge', 'Ron Weasley'], ['Argus Filch', 'Dolores Janes Umbridge', 'Ron Weasley'], ['Minerva McGonagall', 'Dolores Janes Umbridge', 'Ron Weasley'], ['Harry Potter', 'Dolores Janes Umbridge', 'Ron Weasley'], ['Hermione Granger', 'Dolores Janes Umbridge', 'Ron Weasley'], ['Sirius Black', 'Severus Snape', 'Ron Weasley'], ['Vincent Crabbe Sr.', 'Severus Snape', 'Ron Weasley', 'Peter Pettigrew'], ['Bartemius \"Barty\" Crouch Jr.', 'Severus Snape', 'Ron Weasley', 'Peter Pettigrew'], ['Albus Dumbledore', 'Severus Snape', 'Ron Weasley'], ['Argus Filch', 'Severus Snape', 'Ron Weasley'], ['Hermione Granger', 'Severus Snape', 'Ron Weasley'], ['Rubeus Hagrid', 'Severus Snape', 'Ron Weasley'], ['Lily Potter', 'Severus Snape', 'Ron Weasley', 'Peter Pettigrew'], ['Harry Potter', 'Severus Snape', 'Ron Weasley'], ['Lord Voldemort', 'Severus Snape', 'Ron Weasley'], ['Fred Weasley', 'Severus Snape', 'Ron Weasley'], ['George Weasley', 'Severus Snape', 'Ron Weasley'], ['Ginny Weasley', 'Severus Snape', 'Ron Weasley'], ['Sirius Black', 'Alastor \"Mad-Eye\" Moody', 'Ron Weasley'], ['Bartemius \"Barty\" Crouch Jr.', 'Alastor \"Mad-Eye\" Moody', 'Ron Weasley', 'Peter Pettigrew'], ['Fleur Delacour', 'Alastor \"Mad-Eye\" Moody', 'Ron Weasley'], ['Albus Dumbledore', 'Alastor \"Mad-Eye\" Moody', 'Ron Weasley'], ['Harry Potter', 'Alastor \"Mad-Eye\" Moody', 'Ron Weasley'], ['Molly Weasley', 'Alastor \"Mad-Eye\" Moody', 'Ron Weasley'], ['Hermione Granger', 'Alastor \"Mad-Eye\" Moody', 'Ron Weasley'], ['Lord Voldemort', 'Alastor \"Mad-Eye\" Moody', 'Ron Weasley'], ['Sirius Black', 'Lucius Malfoy', 'Ron Weasley'], ['Vincent Crabbe Sr.', 'Lucius Malfoy', 'Ron Weasley', 'Peter Pettigrew'], ['Bellatrix Lestrange', 'Lucius Malfoy', 'Ron Weasley'], ['Draco Malfoy', 'Lucius Malfoy', 'Ron Weasley'], ['Lord Voldemort', 'Lucius Malfoy', 'Ron Weasley'], ['Harry Potter', 'Lucius Malfoy', 'Ron Weasley'], ['Molly Weasley', 'Lucius Malfoy', 'Ron Weasley'], ['Sirius Black', 'Narcissa Malfoy', 'Lucius Malfoy'], ['Bellatrix Lestrange', 'Narcissa Malfoy', 'Lucius Malfoy'], ['Draco Malfoy', 'Narcissa Malfoy', 'Lucius Malfoy'], ['Lord Voldemort', 'Narcissa Malfoy', 'Lucius Malfoy'], ['Sirius Black', 'Bellatrix Lestrange', 'Ron Weasley'], ['Vincent Crabbe Sr.', 'Bellatrix Lestrange', 'Ron Weasley', 'Peter Pettigrew'], ['Fleur Delacour', 'Bellatrix Lestrange', 'Ron Weasley'], ['Albus Dumbledore', 'Bellatrix Lestrange', 'Ron Weasley'], ['Lord Voldemort', 'Bellatrix Lestrange', 'Ron Weasley'], ['Harry Potter', 'Bellatrix Lestrange', 'Ron Weasley'], ['Molly Weasley', 'Bellatrix Lestrange', 'Ron Weasley'], ['Sirius Black', 'Nymphadora Tonks', 'Bellatrix Lestrange'], ['Remus Lupin', 'Nymphadora Tonks', 'Bellatrix Lestrange', 'Ron Weasley'], ['Lord Voldemort', 'Nymphadora Tonks', 'Bellatrix Lestrange'], ['Sirius Black', 'Regulus Arcturus Black', 'Bellatrix Lestrange'], ['Lord Voldemort', 'Regulus Arcturus Black', 'Bellatrix Lestrange'], ['Vincent Crabbe Sr.', 'Regulus Arcturus Black', 'Bellatrix Lestrange'], ['Vincent Crabbe', 'Gregory Goyle', 'Ron Weasley'], ['Draco Malfoy', 'Gregory Goyle', 'Ron Weasley'], ['Harry Potter', 'Gregory Goyle', 'Ron Weasley'], ['Lord Voldemort', 'Gregory Goyle', 'Ron Weasley'], ['Hermione Granger', 'Gregory Goyle', 'Ron Weasley'], ['Vincent Crabbe Sr.', 'Goyle Sr.', 'Gregory Goyle', 'Ron Weasley', 'Peter Pettigrew'], ['Lord Voldemort', 'Goyle Sr.', 'Gregory Goyle'], ['Albus Dumbledore', 'Percy Weasley', 'Ron Weasley'], ['Fred Weasley', 'Percy Weasley', 'Ron Weasley'], ['George Weasley', 'Percy Weasley', 'Ron Weasley'], ['Ginny Weasley', 'Percy Weasley', 'Ron Weasley'], ['Molly Weasley', 'Percy Weasley', 'Ron Weasley'], ['Vincent Crabbe Sr.', 'Bartemius \"Barty\" Crouch Sr.', 'Percy Weasley', 'Ron Weasley', 'Peter Pettigrew'], ['Bartemius \"Barty\" Crouch Jr.', 'Bartemius \"Barty\" Crouch Sr.', 'Percy Weasley', 'Ron Weasley', 'Peter Pettigrew'], ['Lord Voldemort', 'Igor Karkaroff', 'Bartemius \"Barty\" Crouch Sr.', 'Percy Weasley', 'Ron Weasley'], ['Rubeus Hagrid', 'Olympe Maxime', 'Igor Karkaroff', 'Bartemius \"Barty\" Crouch Sr.', 'Percy Weasley', 'Ron Weasley'], ['Fleur Delacour', 'Olympe Maxime', 'Igor Karkaroff', 'Bartemius \"Barty\" Crouch Sr.', 'Percy Weasley', 'Ron Weasley'], ['Albus Dumbledore', 'Olympe Maxime', 'Igor Karkaroff', 'Bartemius \"Barty\" Crouch Sr.', 'Percy Weasley'], ['Harry Potter', 'Viktor Krum', 'Igor Karkaroff', 'Bartemius \"Barty\" Crouch Sr.', 'Percy Weasley', 'Ron Weasley'], ['Fleur Delacour', 'Viktor Krum', 'Igor Karkaroff', 'Bartemius \"Barty\" Crouch Sr.', 'Percy Weasley', 'Ron Weasley'], ['Hermione Granger', 'Viktor Krum', 'Igor Karkaroff', 'Bartemius \"Barty\" Crouch Sr.', 'Percy Weasley', 'Ron Weasley'], ['Cho Chang', 'Cedric Diggory', 'Viktor Krum', 'Igor Karkaroff', 'Bartemius \"Barty\" Crouch Sr.', 'Percy Weasley', 'Ron Weasley'], ['Harry Potter', 'Cedric Diggory', 'Viktor Krum'], ['Lord Voldemort', 'Cedric Diggory', 'Viktor Krum', 'Igor Karkaroff'], ['Fleur Delacour', 'Molly Weasley', 'Ron Weasley'], ['Albus Dumbledore', 'Molly Weasley', 'Ron Weasley'], ['Hermione Granger', 'Molly Weasley', 'Ron Weasley'], ['Fred Weasley', 'Molly Weasley', 'Ron Weasley'], ['George Weasley', 'Molly Weasley', 'Ron Weasley'], ['Ginny Weasley', 'Molly Weasley', 'Ron Weasley'], ['Sirius Black', 'Molly Weasley', 'Ron Weasley'], ['Harry Potter', 'Molly Weasley', 'Ron Weasley'], ['Lord Voldemort', 'Molly Weasley', 'Ron Weasley'], ['Sirius Black', 'Minerva McGonagall', 'Ron Weasley'], ['Bartemius \"Barty\" Crouch Jr.', 'Minerva McGonagall', 'Ron Weasley', 'Peter Pettigrew'], ['Albus Dumbledore', 'Minerva McGonagall', 'Ron Weasley'], ['Argus Filch', 'Minerva McGonagall', 'Ron Weasley'], ['Rubeus Hagrid', 'Minerva McGonagall', 'Ron Weasley'], ['Remus Lupin', 'Minerva McGonagall', 'Ron Weasley'], ['Lord Voldemort', 'Minerva McGonagall', 'Ron Weasley'], ['Harry Potter', 'Minerva McGonagall', 'Ron Weasley'], ['Hermione Granger', 'Minerva McGonagall', 'Ron Weasley'], ['Vincent Crabbe', 'Draco Malfoy', 'Ron Weasley'], ['Hermione Granger', 'Draco Malfoy', 'Ron Weasley'], ['Neville Longbottom', 'Draco Malfoy', 'Ron Weasley'], ['Harry Potter', 'Draco Malfoy', 'Ron Weasley'], ['Seamus Finnigan', 'Luna Lovegood', 'Ron Weasley'], ['Hermione Granger', 'Luna Lovegood', 'Ron Weasley'], ['Neville Longbottom', 'Luna Lovegood', 'Ron Weasley'], ['Harry Potter', 'Luna Lovegood', 'Ron Weasley'], ['Lavender Brown', 'Neville Longbottom', 'Ron Weasley'], ['Cho Chang', 'Neville Longbottom', 'Ron Weasley'], ['Bartemius \"Barty\" Crouch Jr.', 'Neville Longbottom', 'Ron Weasley', 'Peter Pettigrew'], ['Fleur Delacour', 'Neville Longbottom', 'Ron Weasley'], ['Seamus Finnigan', 'Neville Longbottom', 'Ron Weasley'], ['Hermione Granger', 'Neville Longbottom', 'Ron Weasley'], ['Rubeus Hagrid', 'Neville Longbottom', 'Ron Weasley'], ['Harry Potter', 'Neville Longbottom', 'Ron Weasley'], ['Lord Voldemort', 'Neville Longbottom', 'Ron Weasley'], ['Alice Longbottom', 'Frank Longbottom', 'Neville Longbottom'], ['Lord Voldemort', 'Frank Longbottom', 'Neville Longbottom'], ['Albus Dumbledore', 'Rubeus Hagrid', 'Ron Weasley'], ['Argus Filch', 'Rubeus Hagrid', 'Ron Weasley'], ['Lord Voldemort', 'Rubeus Hagrid', 'Ron Weasley'], ['Hermione Granger', 'Rubeus Hagrid', 'Ron Weasley'], ['Harry Potter', 'Rubeus Hagrid', 'Ron Weasley'], ['Dudley Dursley'], ['Harry Potter', 'Dudley Dursley', 'Rubeus Hagrid'], ['Albus Dumbledore', 'Petunia Dursley', 'Dudley Dursley', 'Rubeus Hagrid'], ['Petunia Dursley'], ['Harry Potter', 'Petunia Dursley', 'Dudley Dursley'], ['Lily Potter', 'Petunia Dursley', 'Dudley Dursley', 'Rubeus Hagrid', 'Ron Weasley', 'Peter Pettigrew'], ['Vernon Dursley', 'Petunia Dursley', 'Dudley Dursley'], ['Albus Dumbledore', 'Vernon Dursley', 'Dudley Dursley', 'Rubeus Hagrid'], ['Harry Potter', 'Vernon Dursley', 'Dudley Dursley'], ['Cho Chang', 'Seamus Finnigan', 'Ron Weasley'], ['Lavender Brown', 'Seamus Finnigan', 'Ron Weasley'], ['Hermione Granger', 'Seamus Finnigan', 'Ron Weasley'], ['Harry Potter', 'Seamus Finnigan', 'Ron Weasley'], ['Ginny Weasley', 'Seamus Finnigan', 'Ron Weasley'], ['Albus Dumbledore', 'Alberforth Dumbledore', 'Ron Weasley'], ['Hermione Granger', 'Alberforth Dumbledore', 'Ron Weasley'], ['Harry Potter', 'Alberforth Dumbledore', 'Ron Weasley'], ['Hermione Granger', 'Fleur Delacour', 'Ron Weasley'], ['Harry Potter', 'Fleur Delacour', 'Ron Weasley'], ['Ginny Weasley', 'Fleur Delacour', 'Ron Weasley'], ['Vincent Crabbe Sr.', 'Vincent Crabbe', 'Ron Weasley', 'Peter Pettigrew'], ['Hermione Granger', 'Vincent Crabbe', 'Ron Weasley'], ['Harry Potter', 'Vincent Crabbe', 'Ron Weasley'], ['Hermione Granger', 'Cho Chang', 'Ron Weasley'], ['Harry Potter', 'Cho Chang', 'Ron Weasley'], ['Lord Voldemort', 'Cho Chang', 'Ron Weasley'], ['Hermione Granger', 'Lavender Brown', 'Ron Weasley'], ['Sirius Black', 'Ginny Weasley', 'Peter Pettigrew'], ['Albus Dumbledore', 'Ginny Weasley', 'Peter Pettigrew'], ['Fred Weasley', 'Ginny Weasley', 'Peter Pettigrew'], ['George Weasley', 'Ginny Weasley', 'Peter Pettigrew'], ['Hermione Granger', 'Ginny Weasley', 'Peter Pettigrew'], ['Remus Lupin', 'Ginny Weasley', 'Peter Pettigrew'], ['Harry Potter', 'Ginny Weasley', 'Peter Pettigrew'], ['Lord Voldemort', 'Ginny Weasley', 'Peter Pettigrew'], ['Sirius Black', 'George Weasley', 'Peter Pettigrew'], ['Albus Dumbledore', 'George Weasley', 'Peter Pettigrew'], ['Argus Filch', 'George Weasley', 'Peter Pettigrew'], ['Hermione Granger', 'George Weasley', 'Peter Pettigrew'], ['Fred Weasley', 'George Weasley', 'Peter Pettigrew'], ['Remus Lupin', 'George Weasley', 'Peter Pettigrew'], ['Harry Potter', 'George Weasley', 'Peter Pettigrew'], ['Lord Voldemort', 'George Weasley', 'Peter Pettigrew'], ['Sirius Black', 'Fred Weasley', 'Peter Pettigrew'], ['Albus Dumbledore', 'Fred Weasley', 'Peter Pettigrew'], ['Argus Filch', 'Fred Weasley', 'Peter Pettigrew'], ['Hermione Granger', 'Fred Weasley', 'Peter Pettigrew'], ['Remus Lupin', 'Fred Weasley', 'Peter Pettigrew'], ['Harry Potter', 'Fred Weasley', 'Peter Pettigrew'], ['Lord Voldemort', 'Fred Weasley', 'Peter Pettigrew'], ['Sirius Black', 'Harry Potter', 'Peter Pettigrew'], ['Bartemius \"Barty\" Crouch Jr.', 'Harry Potter', 'Peter Pettigrew'], ['Albus Dumbledore', 'Harry Potter', 'Peter Pettigrew'], ['Argus Filch', 'Harry Potter', 'Peter Pettigrew'], ['Hermione Granger', 'Harry Potter', 'Peter Pettigrew'], ['Remus Lupin', 'Harry Potter', 'Peter Pettigrew'], ['Lord Voldemort', 'Harry Potter', 'Peter Pettigrew'], ['Lily Potter', 'Harry Potter', 'Peter Pettigrew'], ['James Potter', 'Harry Potter', 'Peter Pettigrew'], ['Albus Dumbledore', 'Rita Skeeter', 'Harry Potter'], ['Albus Dumbledore', 'Quirinus Quirrell', 'Harry Potter'], ['Hermione Granger', 'Quirinus Quirrell', 'Harry Potter'], ['Lord Voldemort', 'Quirinus Quirrell', 'Harry Potter'], ['Sirius Black', 'Lord Voldemort', 'Peter Pettigrew'], ['Vincent Crabbe Sr.', 'Lord Voldemort', 'Peter Pettigrew'], ['Bartemius \"Barty\" Crouch Jr.', 'Lord Voldemort', 'Peter Pettigrew'], ['Albus Dumbledore', 'Lord Voldemort', 'Peter Pettigrew'], ['Hermione Granger', 'Lord Voldemort', 'Peter Pettigrew'], ['Remus Lupin', 'Lord Voldemort', 'Peter Pettigrew'], ['James Potter', 'Lord Voldemort', 'Peter Pettigrew'], ['Lily Potter', 'Lord Voldemort', 'Peter Pettigrew'], ['Tom Riddle Sr.', 'Mary Riddle', 'Lord Voldemort'], ['Tom Riddle Sr.'], ['Sirius Black', 'Lily Potter', 'Peter Pettigrew'], ['Albus Dumbledore', 'Lily Potter', 'Peter Pettigrew'], ['James Potter', 'Lily Potter', 'Peter Pettigrew'], ['Sirius Black', 'James Potter', 'Peter Pettigrew'], ['Albus Dumbledore', 'James Potter', 'Peter Pettigrew'], ['Argus Filch', 'James Potter', 'Peter Pettigrew'], ['Remus Lupin', 'James Potter', 'Peter Pettigrew'], ['Sirius Black', 'Remus Lupin', 'Peter Pettigrew'], ['Albus Dumbledore', 'Remus Lupin', 'Peter Pettigrew'], ['Sirius Black', 'Hermione Granger', 'Peter Pettigrew'], ['Bartemius \"Barty\" Crouch Jr.', 'Hermione Granger', 'Peter Pettigrew'], ['Albus Dumbledore', 'Hermione Granger', 'Peter Pettigrew'], ['Argus Filch', 'Hermione Granger', 'Peter Pettigrew'], ['Sirius Black', 'Argus Filch', 'Peter Pettigrew'], ['Albus Dumbledore', 'Argus Filch', 'Peter Pettigrew'], ['Sirius Black', 'Albus Dumbledore', 'Peter Pettigrew']]\n"
     ]
    }
   ],
   "source": [
    "print(nx.cycle_basis(G))"
   ]
  },
  {
   "cell_type": "code",
   "execution_count": 28,
   "id": "8a1b6026",
   "metadata": {},
   "outputs": [
    {
     "data": {
      "text/plain": [
       "False"
      ]
     },
     "execution_count": 28,
     "metadata": {},
     "output_type": "execute_result"
    }
   ],
   "source": [
    "nx.is_eulerian(G)\n",
    "# there is no path which goes through all the nodes without crossing atleast one edge more than once"
   ]
  },
  {
   "cell_type": "markdown",
   "id": "6502412a",
   "metadata": {},
   "source": [
    "In line with the probabilistic interpretation 〈C〉- clustering coefficient is the probability that two neighbors of a randomly selected node link to each other.\n",
    "\n"
   ]
  },
  {
   "cell_type": "code",
   "execution_count": 29,
   "id": "8278ad15",
   "metadata": {},
   "outputs": [
    {
     "name": "stdout",
     "output_type": "stream",
     "text": [
      "Avg. clustering coefficient: 0.6116923748817632\n"
     ]
    }
   ],
   "source": [
    "print('Avg. clustering coefficient:', nx.average_clustering(G))"
   ]
  },
  {
   "cell_type": "code",
   "execution_count": 30,
   "id": "58635fc5",
   "metadata": {},
   "outputs": [
    {
     "name": "stdout",
     "output_type": "stream",
     "text": [
      "                 node  coeff\n",
      "22     Lavender Brown    1.0\n",
      "44  Quirinus Quirrell    1.0\n",
      "45       Rita Skeeter    1.0\n",
      "53             Fluffy    1.0\n",
      "54             Aragog    1.0\n",
      "55              Grawp    1.0\n",
      "58   Alice Longbottom    1.0\n",
      "61     Tom Riddle Sr.    1.0\n",
      "62        Mary Riddle    1.0\n",
      "      node  coeff\n",
      "63  Hedwig    0.0\n"
     ]
    }
   ],
   "source": [
    "clus_coeff = nx.clustering(G)\n",
    "df_clus_coeff = pd.DataFrame(clus_coeff.items(), columns= ['node','coeff'])\n",
    "df2 = df_clus_coeff.query('coeff == coeff.max()')\n",
    "print(df2)\n",
    "df3 = df_clus_coeff.query('node == \"Hedwig\"')\n",
    "print(df3)"
   ]
  },
  {
   "cell_type": "markdown",
   "id": "ec47cf4f",
   "metadata": {},
   "source": [
    "The clustering coefficient is a basic measure for local density (connections) in a network. The number gives a 'probability' that two friends of a node are connected too (if A is connected to B and to C, how probable is the connections between B and C) ."
   ]
  },
  {
   "cell_type": "code",
   "execution_count": 31,
   "id": "922d9e0d",
   "metadata": {},
   "outputs": [
    {
     "name": "stdout",
     "output_type": "stream",
     "text": [
      "           source                   target type\n",
      "4    Sirius Black         Albus Dumbledore    +\n",
      "5    Sirius Black         Hermione Granger    +\n",
      "7    Sirius Black              Remus Lupin    +\n",
      "10   Sirius Black       Minerva McGonagall    +\n",
      "11   Sirius Black  Alastor \"Mad-Eye\" Moody    +\n",
      "..            ...                      ...  ...\n",
      "506        Aragog            Rubeus Hagrid    +\n",
      "509         Grawp         Hermione Granger    +\n",
      "510         Grawp            Rubeus Hagrid    +\n",
      "511         Grawp             Harry Potter    +\n",
      "512        Aragog              Ron Weasley    +\n",
      "\n",
      "[356 rows x 3 columns]\n"
     ]
    }
   ],
   "source": [
    "relations_pos = relations[relations.type == '+']\n",
    "print(relations_pos)"
   ]
  },
  {
   "cell_type": "code",
   "execution_count": 32,
   "id": "ac809ef1",
   "metadata": {},
   "outputs": [
    {
     "name": "stdout",
     "output_type": "stream",
     "text": [
      "                     source                  target type\n",
      "0    Regulus Arcturus Black            Sirius Black    -\n",
      "1    Regulus Arcturus Black     Bellatrix Lestrange    -\n",
      "2    Regulus Arcturus Black          Lord Voldemort    -\n",
      "3              Sirius Black  Regulus Arcturus Black    -\n",
      "6              Sirius Black     Bellatrix Lestrange    -\n",
      "..                      ...                     ...  ...\n",
      "501                  Fluffy            Harry Potter    -\n",
      "502                  Fluffy             Ron Weasley    -\n",
      "505                  Aragog        Hermione Granger    -\n",
      "507                  Aragog            Harry Potter    -\n",
      "508                  Aragog             Ron Weasley    -\n",
      "\n",
      "[157 rows x 3 columns]\n"
     ]
    }
   ],
   "source": [
    "relations_neg = relations[relations.type == '-']\n",
    "print(relations_neg)"
   ]
  },
  {
   "cell_type": "code",
   "execution_count": 34,
   "id": "94a52c51",
   "metadata": {},
   "outputs": [
    {
     "name": "stdout",
     "output_type": "stream",
     "text": [
      "Avg. clustering coefficient: 0.5236208756911296\n"
     ]
    }
   ],
   "source": [
    "G_pos = nx.from_pandas_edgelist(relations_pos, edge_attr='type', create_using=Graphtype)\n",
    "print('Avg. clustering coefficient:', nx.average_clustering(G_pos))"
   ]
  },
  {
   "cell_type": "code",
   "execution_count": 37,
   "id": "02d5fc59",
   "metadata": {},
   "outputs": [
    {
     "data": {
      "text/plain": [
       "112"
      ]
     },
     "execution_count": 37,
     "metadata": {},
     "output_type": "execute_result"
    }
   ],
   "source": [
    "G_pos.number_of_edges()"
   ]
  },
  {
   "cell_type": "code",
   "execution_count": 35,
   "id": "b0e9f309",
   "metadata": {},
   "outputs": [
    {
     "name": "stdout",
     "output_type": "stream",
     "text": [
      "Avg. clustering coefficient: 0.059506139552275655\n"
     ]
    }
   ],
   "source": [
    "G_neg = nx.from_pandas_edgelist(relations_neg, edge_attr='type', create_using=Graphtype)\n",
    "print('Avg. clustering coefficient:', nx.average_clustering(G_neg))"
   ]
  },
  {
   "cell_type": "code",
   "execution_count": 38,
   "id": "559259c6",
   "metadata": {},
   "outputs": [
    {
     "data": {
      "text/plain": [
       "112"
      ]
     },
     "execution_count": 38,
     "metadata": {},
     "output_type": "execute_result"
    }
   ],
   "source": [
    "G_neg.number_of_edges()"
   ]
  }
 ],
 "metadata": {
  "kernelspec": {
   "display_name": "Python 3 (ipykernel)",
   "language": "python",
   "name": "python3"
  },
  "language_info": {
   "codemirror_mode": {
    "name": "ipython",
    "version": 3
   },
   "file_extension": ".py",
   "mimetype": "text/x-python",
   "name": "python",
   "nbconvert_exporter": "python",
   "pygments_lexer": "ipython3",
   "version": "3.9.12"
  }
 },
 "nbformat": 4,
 "nbformat_minor": 5
}
